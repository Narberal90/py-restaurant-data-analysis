{
 "cells": [
  {
   "cell_type": "code",
   "metadata": {
    "collapsed": true,
    "pycharm": {
     "name": "#%%\n"
    }
   },
   "source": [
    "import pandas as pd\n",
    "import sqlite3\n",
    "import matplotlib.pyplot as plt"
   ],
   "outputs": [],
   "execution_count": null
  },
  {
   "cell_type": "markdown",
   "source": [
    "# Task 0\n",
    "Data extraction: get the data from 3 tables & combine it into single `.csv` file.\n",
    "After that read this file using pandas to create Dataframe.\n",
    "So it will be all joined data in 1 dataframe. Quick check - should be 74818 rows in it."
   ],
   "metadata": {
    "collapsed": false,
    "pycharm": {
     "name": "#%% md\n"
    }
   }
  },
  {
   "cell_type": "code",
   "source": [
    "with sqlite3.connect(\"../db.sqlite3\") as connection:\n",
    "    cursor = connection.cursor()\n",
    "\n",
    "    cursor.execute(\"\"\"\n",
    "        SELECT product.name AS name, \n",
    "               product.price AS price, \n",
    "               orderitem.quantity AS quantity, \n",
    "               \"order\".datetime \n",
    "        FROM restaurant_orderitem AS orderitem\n",
    "        INNER JOIN restaurant_product AS product \n",
    "        ON orderitem.product_id = product.id\n",
    "        \n",
    "        INNER JOIN restaurant_order AS \"order\" \n",
    "        ON orderitem.order_id = \"order\".id\n",
    "    \"\"\")\n",
    "    rows = cursor.fetchall()\n",
    "df = pd.DataFrame(rows, columns=[\"name\", \"price\", \"quantity\", \"datetime\"])\n",
    "df.to_csv(\"restaurant_orders.csv\", index=False)"
   ],
   "metadata": {
    "collapsed": false,
    "pycharm": {
     "name": "#%%\n"
    }
   },
   "outputs": [],
   "execution_count": null
  },
  {
   "cell_type": "markdown",
   "source": [
    "# Task 1\n",
    "Get Top 10 most popular products in restaurant sold by Quantity.\n",
    "Count how many times each product was sold and create a pie chart with percentage of popularity (by quantity) for top 10 of them.\n",
    "\n",
    "Example:\n",
    "\n",
    "![pie chart](../demo/pie.png)"
   ],
   "metadata": {
    "collapsed": false,
    "pycharm": {
     "name": "#%% md\n"
    }
   }
  },
  {
   "cell_type": "code",
   "source": [
    "with sqlite3.connect(\"../db.sqlite3\") as connection:\n",
    "    query = \"\"\"\n",
    "        SELECT product.name AS name, \n",
    "               SUM(orderitem.quantity) AS total_quantity\n",
    "        FROM restaurant_orderitem AS orderitem\n",
    "        INNER JOIN restaurant_product AS product \n",
    "        ON orderitem.product_id = product.id\n",
    "        GROUP BY product.name\n",
    "        ORDER BY total_quantity DESC\n",
    "        LIMIT 10\n",
    "    \"\"\"\n",
    "    top_products = pd.read_sql_query(query, connection)\n",
    "\n",
    "plt.figure(figsize=(8, 8))\n",
    "plt.pie(\n",
    "    top_products[\"total_quantity\"],\n",
    "    labels=top_products[\"name\"],\n",
    "    autopct=\"%1.1f%%\"\n",
    ")\n",
    "plt.title(\"Top 10 Most Popular Products by Quantity Sold\")\n",
    "plt.show()"
   ],
   "metadata": {
    "collapsed": false,
    "pycharm": {
     "name": "#%%\n"
    }
   },
   "outputs": [],
   "execution_count": null
  },
  {
   "cell_type": "markdown",
   "source": [
    "# Task 2\n",
    "Calculate `Item Price` (Product Price * Quantity) for each Order Item in dataframe.\n",
    "And Make the same Top 10 pie chart, but this time by `Item Price`. So this chart should describe not the most popular products by quantity, but which products (top 10) make the most money for restaurant. It should be also with percentage."
   ],
   "metadata": {
    "collapsed": false,
    "pycharm": {
     "name": "#%% md\n"
    }
   }
  },
  {
   "cell_type": "code",
   "source": [
    "with sqlite3.connect(\"../db.sqlite3\") as connection:\n",
    "    query = \"\"\"\n",
    "        SELECT product.name AS name, \n",
    "               product.price * orderitem.quantity AS item_price\n",
    "        FROM restaurant_orderitem AS orderitem\n",
    "        INNER JOIN restaurant_product AS product \n",
    "        ON orderitem.product_id = product.id\n",
    "    \"\"\"\n",
    "    df_orders = pd.read_sql_query(query, connection)\n",
    "\n",
    "top_revenue_products = (\n",
    "    df_orders.groupby(\"name\")[\"item_price\"]\n",
    "    .sum()\n",
    "    .nlargest(10)\n",
    ")\n",
    "\n",
    "top_revenue_products.plot.pie(\n",
    "    autopct=\"%1.1f%%\",\n",
    "    title=\"Top 10 Products by Revenue\"\n",
    ")"
   ],
   "metadata": {
    "collapsed": false,
    "pycharm": {
     "name": "#%%\n",
     "is_executing": true
    }
   },
   "outputs": [],
   "execution_count": null
  },
  {
   "cell_type": "markdown",
   "source": [
    "# Task 3\n",
    "Calculate `Order Hour` based on `Order Datetime`, which will tell about the specific our the order was created (from 0 to 23). Using `Order Hour` create a bar chart, which will tell the total restaurant income based on the hour order was created. So on x-axis - it will be values from 0 to 23 (hours), on y-axis - it will be the total sum of order prices, which were sold on that hour.\n",
    "\n",
    "Example:\n",
    "\n",
    "![bar chart](../demo/bar.png)"
   ],
   "metadata": {
    "collapsed": false,
    "pycharm": {
     "name": "#%% md\n"
    }
   }
  },
  {
   "cell_type": "code",
   "source": [
    "\n",
    "with sqlite3.connect(\"../db.sqlite3\") as connection:\n",
    "    query = \"\"\"\n",
    "        SELECT product.name AS name, \n",
    "               product.price * orderitem.quantity AS item_price, \n",
    "               \"order\".datetime AS order_datetime\n",
    "        FROM restaurant_orderitem AS orderitem\n",
    "        INNER JOIN restaurant_product AS product ON orderitem.product_id = product.id\n",
    "        INNER JOIN restaurant_order AS \"order\" ON orderitem.order_id = \"order\".id\n",
    "    \"\"\"\n",
    "    df_orders = pd.read_sql_query(query, connection)\n",
    "df_orders[\"order_datetime\"] = pd.to_datetime(df_orders[\"order_datetime\"])\n",
    "\n",
    "df_orders[\"order_hour\"] = df_orders[\"order_datetime\"].dt.hour\n",
    "\n",
    "income_by_hour = df_orders.groupby(\"order_hour\")[\"item_price\"].sum()\n",
    "\n",
    "plt.figure(figsize=(10, 6))\n",
    "income_by_hour.plot(kind=\"bar\", color=\"green\")\n",
    "plt.title(\"Total Restaurant Income by Hour of Order\")\n",
    "plt.xlabel(\"Hour of Order (0-23)\")\n",
    "plt.ylabel(\"Total Income ($)\")\n",
    "plt.xticks(rotation=0)\n",
    "plt.tight_layout()\n",
    "\n",
    "plt.show()\n"
   ],
   "metadata": {
    "collapsed": false,
    "pycharm": {
     "name": "#%%\n"
    }
   },
   "outputs": [],
   "execution_count": null
  },
  {
   "cell_type": "markdown",
   "source": [
    "# Task 4\n",
    "Make similar bar chart, but right now with `Order Day Of The Week` (from Monday to Sunday), and also analyze total restaurant income by each day of the week."
   ],
   "metadata": {
    "collapsed": false,
    "pycharm": {
     "name": "#%% md\n"
    }
   }
  },
  {
   "cell_type": "code",
   "source": [
    "df_orders = pd.read_sql_query(query, connection)\n",
    "df_orders[\"order_datetime\"] = pd.to_datetime(df_orders[\"order_datetime\"])\n",
    "df_orders[\"order_day_of_week\"] = df_orders[\"order_datetime\"].dt.weekday\n",
    "income_by_day = df_orders.groupby(\"order_day_of_week\")[\"item_price\"].sum()\n",
    "days_of_week = [\"Monday\", \"Tuesday\", \"Wednesday\", \"Thursday\", \"Friday\", \"Saturday\", \"Sunday\"]\n",
    "\n",
    "plt.figure(figsize=(10, 6))\n",
    "income_by_day.plot(kind=\"bar\", color=\"lightcoral\")\n",
    "plt.title(\"Total Restaurant Income by Day of the Week\")\n",
    "plt.xlabel(\"Day of the Week\")\n",
    "plt.ylabel(\"Total Income ($)\")\n",
    "plt.xticks(ticks=range(7), labels=days_of_week, rotation=45)\n",
    "plt.tight_layout()\n",
    "plt.show()"
   ],
   "metadata": {
    "collapsed": false,
    "pycharm": {
     "name": "#%%\n"
    }
   },
   "outputs": [],
   "execution_count": null
  }
 ],
 "metadata": {
  "kernelspec": {
   "display_name": "Python 3",
   "language": "python",
   "name": "python3"
  },
  "language_info": {
   "codemirror_mode": {
    "name": "ipython",
    "version": 2
   },
   "file_extension": ".py",
   "mimetype": "text/x-python",
   "name": "python",
   "nbconvert_exporter": "python",
   "pygments_lexer": "ipython2",
   "version": "2.7.6"
  }
 },
 "nbformat": 4,
 "nbformat_minor": 0
}
